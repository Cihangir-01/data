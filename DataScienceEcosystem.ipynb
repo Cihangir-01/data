{
 "cells": [
  {
   "attachments": {},
   "cell_type": "markdown",
   "id": "ee2b096e-e542-4333-8487-87fa05f9a7f3",
   "metadata": {},
   "source": [
    "# Data Science Tools and Ecosystem"
   ]
  },
  {
   "cell_type": "markdown",
   "id": "9036be01-0f58-4eee-92a5-fec4fb087be1",
   "metadata": {},
   "source": [
    "In this notebook, Data Science Tools and Ecosystem are summarized."
   ]
  },
  {
   "cell_type": "markdown",
   "id": "05a4aba7-2041-474b-83be-16681985781c",
   "metadata": {},
   "source": [
    "### Some of the popular languages that Data Scientists use are"
   ]
  },
  {
   "cell_type": "markdown",
   "id": "2993550d-388a-41b6-9c7b-e735ab4b32ed",
   "metadata": {},
   "source": [
    "-Python"
   ]
  },
  {
   "cell_type": "markdown",
   "id": "86b64c2c-9fc0-4736-bd16-9d80b6d09e27",
   "metadata": {},
   "source": [
    "-R"
   ]
  },
  {
   "cell_type": "markdown",
   "id": "4929139b-e0f8-493f-be94-800d09fd9fe1",
   "metadata": {},
   "source": [
    "-SQL"
   ]
  },
  {
   "cell_type": "markdown",
   "id": "9a418fad-67e4-49a6-95c2-2d358887feed",
   "metadata": {},
   "source": [
    "-Julia"
   ]
  },
  {
   "cell_type": "markdown",
   "id": "1579cc47-e425-48cf-8bef-5b101f07b5aa",
   "metadata": {},
   "source": [
    "-Scala"
   ]
  },
  {
   "cell_type": "markdown",
   "id": "8b5abb87-c0c7-4191-968a-2f3ea3c33327",
   "metadata": {},
   "source": [
    "### Some of the commonly used libraries used by Data Scientists include"
   ]
  },
  {
   "cell_type": "markdown",
   "id": "2c5f13fe-5769-4613-bd33-3562e0675b49",
   "metadata": {},
   "source": [
    "-Pandas"
   ]
  },
  {
   "cell_type": "markdown",
   "id": "68f56b8f-4ed6-4d0d-96eb-8553643476d7",
   "metadata": {},
   "source": [
    "-Numpy"
   ]
  },
  {
   "cell_type": "markdown",
   "id": "b774ff19-a33a-4407-a716-b9a03b6510a4",
   "metadata": {},
   "source": [
    "-Matplotlip"
   ]
  },
  {
   "cell_type": "markdown",
   "id": "6123112f-21bf-40a5-8cce-63a3ed63cea3",
   "metadata": {},
   "source": [
    "-Keras"
   ]
  },
  {
   "cell_type": "markdown",
   "id": "969f5d19-649d-4860-9bd4-1d26ed9b5164",
   "metadata": {},
   "source": [
    "-Seaborn"
   ]
  },
  {
   "cell_type": "markdown",
   "id": "83f5fdb7-3451-49d0-8518-979c9a56235c",
   "metadata": {},
   "source": [
    "-TensorFloww"
   ]
  },
  {
   "cell_type": "markdown",
   "id": "af56bb78-9248-4136-b1d1-77ee254ff3f4",
   "metadata": {},
   "source": [
    "-Scrapy"
   ]
  },
  {
   "cell_type": "markdown",
   "id": "4a1c573e-600e-41fb-846e-231e59f5095a",
   "metadata": {},
   "source": [
    "-Scikit-Learn"
   ]
  },
  {
   "cell_type": "code",
   "execution_count": null,
   "id": "d2156eb1-de8c-47b4-a4ef-36ee4331f16c",
   "metadata": {},
   "outputs": [],
   "source": []
  }
 ],
 "metadata": {
  "kernelspec": {
   "display_name": "Python 3 (ipykernel)",
   "language": "python",
   "name": "python3"
  },
  "language_info": {
   "codemirror_mode": {
    "name": "ipython",
    "version": 3
   },
   "file_extension": ".py",
   "mimetype": "text/x-python",
   "name": "python",
   "nbconvert_exporter": "python",
   "pygments_lexer": "ipython3",
   "version": "3.12.8"
  }
 },
 "nbformat": 4,
 "nbformat_minor": 5
}
